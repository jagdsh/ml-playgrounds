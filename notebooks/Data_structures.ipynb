{
 "cells": [
  {
   "cell_type": "code",
   "execution_count": 18,
   "metadata": {
    "colab": {
     "base_uri": "https://localhost:8080/"
    },
    "executionInfo": {
     "elapsed": 55,
     "status": "ok",
     "timestamp": 1740913431079,
     "user": {
      "displayName": "Jagdsh Chand",
      "userId": "17421454471571350286"
     },
     "user_tz": -60
    },
    "id": "wH67lhlZhlz1",
    "outputId": "e44a8e71-3419-4233-cc57-1e8ce541ffd1"
   },
   "outputs": [
    {
     "name": "stdin",
     "output_type": "stream",
     "text": [
      "Enter String sadfa@#@)(*877876\n"
     ]
    },
    {
     "name": "stdout",
     "output_type": "stream",
     "text": [
      "SADFA\n"
     ]
    }
   ],
   "source": [
    "import re\n",
    "val = input(\"Enter String\")\n",
    "removeSplStr = re.sub('[^A-Za-z]+', '', val)\n",
    "\n",
    "finalStr = ''\n",
    "for e in removeSplStr:\n",
    "    if(e.islower()):\n",
    "        finalStr += e.upper()\n",
    "    else:\n",
    "        finalStr += e.lower()\n",
    "        \n",
    "\n",
    "print(finalStr)"
   ]
  },
  {
   "cell_type": "code",
   "execution_count": 1,
   "metadata": {},
   "outputs": [],
   "source": [
    "t1 = (1,2,3)"
   ]
  },
  {
   "cell_type": "code",
   "execution_count": 5,
   "metadata": {},
   "outputs": [],
   "source": [
    "t1 = t1 + (4,)"
   ]
  },
  {
   "cell_type": "code",
   "execution_count": 11,
   "metadata": {},
   "outputs": [
    {
     "data": {
      "text/plain": [
       "[4, 3, 2, 1]"
      ]
     },
     "execution_count": 11,
     "metadata": {},
     "output_type": "execute_result"
    }
   ],
   "source": [
    "sorted(t1, reverse=True)"
   ]
  },
  {
   "cell_type": "code",
   "execution_count": 35,
   "metadata": {},
   "outputs": [
    {
     "name": "stdout",
     "output_type": "stream",
     "text": [
      "36\n",
      "12\n",
      "6.0\n"
     ]
    }
   ],
   "source": [
    "a = 5\n",
    "a += 1\n",
    "a **= 2\n",
    "print(a)\n",
    "a //= 3\n",
    "print(a)\n",
    "a *= 0.5\n",
    "print(a)"
   ]
  },
  {
   "cell_type": "code",
   "execution_count": null,
   "metadata": {},
   "outputs": [],
   "source": []
  }
 ],
 "metadata": {
  "colab": {
   "authorship_tag": "ABX9TyNxQUBDP6TTKQ2FZtkTtid2",
   "provenance": []
  },
  "kernelspec": {
   "display_name": "Python [conda env:base] *",
   "language": "python",
   "name": "conda-base-py"
  },
  "language_info": {
   "codemirror_mode": {
    "name": "ipython",
    "version": 3
   },
   "file_extension": ".py",
   "mimetype": "text/x-python",
   "name": "python",
   "nbconvert_exporter": "python",
   "pygments_lexer": "ipython3",
   "version": "3.12.7"
  }
 },
 "nbformat": 4,
 "nbformat_minor": 4
}
