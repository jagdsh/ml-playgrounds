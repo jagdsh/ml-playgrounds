{
 "cells": [
  {
   "cell_type": "code",
   "execution_count": 1,
   "id": "3f2a586b-c5b4-460f-a6b6-c0f7f3fc1e05",
   "metadata": {},
   "outputs": [
    {
     "name": "stdout",
     "output_type": "stream",
     "text": [
      "Hello world\n"
     ]
    }
   ],
   "source": [
    "print(\"Hello world\")"
   ]
  },
  {
   "cell_type": "code",
   "execution_count": 1,
   "id": "8967cade-a061-436f-aee4-0484824d51a6",
   "metadata": {},
   "outputs": [
    {
     "data": {
      "text/plain": [
       "2.5"
      ]
     },
     "execution_count": 1,
     "metadata": {},
     "output_type": "execute_result"
    }
   ],
   "source": [
    "5/2"
   ]
  },
  {
   "cell_type": "code",
   "execution_count": 3,
   "id": "c05f7e7b-fe24-48f2-b562-1946b7427b03",
   "metadata": {},
   "outputs": [
    {
     "data": {
      "text/plain": [
       "25"
      ]
     },
     "execution_count": 3,
     "metadata": {},
     "output_type": "execute_result"
    }
   ],
   "source": [
    "5**2"
   ]
  },
  {
   "cell_type": "code",
   "execution_count": 5,
   "id": "b03d91a1-a133-41f2-bef2-20e594470970",
   "metadata": {},
   "outputs": [
    {
     "data": {
      "text/plain": [
       "15"
      ]
     },
     "execution_count": 5,
     "metadata": {},
     "output_type": "execute_result"
    }
   ],
   "source": [
    "5*3"
   ]
  },
  {
   "cell_type": "code",
   "execution_count": 7,
   "id": "1b50b9e6-918d-41d9-92ca-761c7186e54b",
   "metadata": {},
   "outputs": [
    {
     "data": {
      "text/plain": [
       "125"
      ]
     },
     "execution_count": 7,
     "metadata": {},
     "output_type": "execute_result"
    }
   ],
   "source": [
    "5**3"
   ]
  },
  {
   "cell_type": "code",
   "execution_count": 9,
   "id": "927187bc-312e-436e-b195-d645842362c9",
   "metadata": {},
   "outputs": [
    {
     "data": {
      "text/plain": [
       "1"
      ]
     },
     "execution_count": 9,
     "metadata": {},
     "output_type": "execute_result"
    }
   ],
   "source": [
    "10%3"
   ]
  },
  {
   "cell_type": "code",
   "execution_count": 11,
   "id": "ff4c1cbb-4bb2-446d-9592-0d2e82813639",
   "metadata": {},
   "outputs": [
    {
     "data": {
      "text/plain": [
       "5.4"
      ]
     },
     "execution_count": 11,
     "metadata": {},
     "output_type": "execute_result"
    }
   ],
   "source": [
    "27/5"
   ]
  },
  {
   "cell_type": "code",
   "execution_count": 13,
   "id": "900f7967-77d9-4978-9dac-c57a5253d096",
   "metadata": {},
   "outputs": [
    {
     "data": {
      "text/plain": [
       "5"
      ]
     },
     "execution_count": 13,
     "metadata": {},
     "output_type": "execute_result"
    }
   ],
   "source": [
    "27//5"
   ]
  },
  {
   "cell_type": "code",
   "execution_count": 15,
   "id": "faa73871-5136-43f3-86aa-354e2bef1c51",
   "metadata": {},
   "outputs": [
    {
     "data": {
      "text/plain": [
       "'44444'"
      ]
     },
     "execution_count": 15,
     "metadata": {},
     "output_type": "execute_result"
    }
   ],
   "source": [
    "'4'*5"
   ]
  },
  {
   "cell_type": "code",
   "execution_count": 17,
   "id": "917cbab7-04dc-4fc8-a3db-8fcb0a637a65",
   "metadata": {},
   "outputs": [
    {
     "data": {
      "text/plain": [
       "'hellohellohellohellohello'"
      ]
     },
     "execution_count": 17,
     "metadata": {},
     "output_type": "execute_result"
    }
   ],
   "source": [
    "'hello'*5"
   ]
  },
  {
   "cell_type": "code",
   "execution_count": 19,
   "id": "6a60aff3-8e15-49fa-84b8-f9ab87044ee0",
   "metadata": {},
   "outputs": [],
   "source": [
    "my_string='Hello'"
   ]
  },
  {
   "cell_type": "code",
   "execution_count": 23,
   "id": "9d75e4d5-17f0-458f-abd8-d9686f42f51e",
   "metadata": {},
   "outputs": [
    {
     "data": {
      "text/plain": [
       "'H'"
      ]
     },
     "execution_count": 23,
     "metadata": {},
     "output_type": "execute_result"
    }
   ],
   "source": [
    "my_string[0]"
   ]
  },
  {
   "cell_type": "code",
   "execution_count": 27,
   "id": "39eb5954-26a0-416e-aa38-0806f3f5806e",
   "metadata": {},
   "outputs": [
    {
     "data": {
      "text/plain": [
       "'e'"
      ]
     },
     "execution_count": 27,
     "metadata": {},
     "output_type": "execute_result"
    }
   ],
   "source": [
    "my_string[-4]"
   ]
  },
  {
   "cell_type": "code",
   "execution_count": 29,
   "id": "bec8530d-d9c9-4c37-88b1-9772881764a2",
   "metadata": {},
   "outputs": [],
   "source": [
    "x2='01234'"
   ]
  },
  {
   "cell_type": "code",
   "execution_count": 31,
   "id": "736b9f81-f6e7-48f7-84a8-44756b31ef5d",
   "metadata": {},
   "outputs": [
    {
     "data": {
      "text/plain": [
       "'012'"
      ]
     },
     "execution_count": 31,
     "metadata": {},
     "output_type": "execute_result"
    }
   ],
   "source": [
    "x2[0:3] # last number is excluded"
   ]
  },
  {
   "cell_type": "code",
   "execution_count": 33,
   "id": "63082309-75d7-4399-93a2-7fc78b13296a",
   "metadata": {},
   "outputs": [],
   "source": [
    "x2 = \"hey learning python?\""
   ]
  },
  {
   "cell_type": "code",
   "execution_count": 35,
   "id": "242e8f6d-606d-48fe-a7ca-aed4e1020bfd",
   "metadata": {},
   "outputs": [
    {
     "data": {
      "text/plain": [
       "'hey lerani'"
      ]
     },
     "execution_count": 35,
     "metadata": {},
     "output_type": "execute_result"
    }
   ],
   "source": [
    "x2[0:10] # hey learni"
   ]
  },
  {
   "cell_type": "code",
   "execution_count": 37,
   "id": "34e2bcba-e23d-4325-8797-3e705e9552a6",
   "metadata": {},
   "outputs": [
    {
     "data": {
      "text/plain": [
       "' leraning '"
      ]
     },
     "execution_count": 37,
     "metadata": {},
     "output_type": "execute_result"
    }
   ],
   "source": [
    "x2[3:13] # ' learning '"
   ]
  },
  {
   "cell_type": "code",
   "execution_count": 39,
   "id": "e1993862-45d1-482e-8fda-4c9f5bec0d31",
   "metadata": {},
   "outputs": [
    {
     "data": {
      "text/plain": [
       "' '"
      ]
     },
     "execution_count": 39,
     "metadata": {},
     "output_type": "execute_result"
    }
   ],
   "source": [
    "x2[-8] # ' '"
   ]
  },
  {
   "cell_type": "code",
   "execution_count": 41,
   "id": "430401ee-1b5a-4dfb-95e6-2b89eb62878f",
   "metadata": {},
   "outputs": [
    {
     "data": {
      "text/plain": [
       "' pyt'"
      ]
     },
     "execution_count": 41,
     "metadata": {},
     "output_type": "execute_result"
    }
   ],
   "source": [
    "x2[12:16] # ' pyt'"
   ]
  },
  {
   "cell_type": "code",
   "execution_count": null,
   "id": "28bc6bbf-4473-4e32-a9ea-2b9d13e89f44",
   "metadata": {},
   "outputs": [],
   "source": []
  },
  {
   "cell_type": "code",
   "execution_count": null,
   "id": "038c102d-f196-486d-bd35-b93cc27dad4b",
   "metadata": {},
   "outputs": [],
   "source": []
  },
  {
   "cell_type": "code",
   "execution_count": null,
   "id": "268bc8bb-0def-4dc0-8f5a-032cb93286b8",
   "metadata": {},
   "outputs": [],
   "source": []
  },
  {
   "cell_type": "code",
   "execution_count": null,
   "id": "2c27b64b-7451-4e3e-b9e0-ea02047269ed",
   "metadata": {},
   "outputs": [],
   "source": []
  }
 ],
 "metadata": {
  "kernelspec": {
   "display_name": "Python [conda env:base] *",
   "language": "python",
   "name": "conda-base-py"
  },
  "language_info": {
   "codemirror_mode": {
    "name": "ipython",
    "version": 3
   },
   "file_extension": ".py",
   "mimetype": "text/x-python",
   "name": "python",
   "nbconvert_exporter": "python",
   "pygments_lexer": "ipython3",
   "version": "3.12.7"
  }
 },
 "nbformat": 4,
 "nbformat_minor": 5
}
