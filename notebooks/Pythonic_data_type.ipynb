{
 "cells": [
  {
   "cell_type": "code",
   "execution_count": 1,
   "id": "3f2a586b-c5b4-460f-a6b6-c0f7f3fc1e05",
   "metadata": {},
   "outputs": [
    {
     "name": "stdout",
     "output_type": "stream",
     "text": [
      "Hello world\n"
     ]
    }
   ],
   "source": [
    "print(\"Hello world\")"
   ]
  },
  {
   "cell_type": "code",
   "execution_count": 1,
   "id": "48e9d0b8-c059-489b-816d-d4e2ca4c70c3",
   "metadata": {},
   "outputs": [
    {
     "name": "stdout",
     "output_type": "stream",
     "text": [
      "Hello world\n"
     ]
    }
   ],
   "source": [
    "print(\"Hello world\")"
   ]
  },
  {
   "cell_type": "code",
   "execution_count": 1,
   "id": "8967cade-a061-436f-aee4-0484824d51a6",
   "metadata": {},
   "outputs": [
    {
     "data": {
      "text/plain": [
       "2.5"
      ]
     },
     "execution_count": 1,
     "metadata": {},
     "output_type": "execute_result"
    }
   ],
   "source": [
    "5/2"
   ]
  },
  {
   "cell_type": "code",
   "execution_count": 3,
   "id": "c05f7e7b-fe24-48f2-b562-1946b7427b03",
   "metadata": {},
   "outputs": [
    {
     "data": {
      "text/plain": [
       "25"
      ]
     },
     "execution_count": 3,
     "metadata": {},
     "output_type": "execute_result"
    }
   ],
   "source": [
    "5**2"
   ]
  },
  {
   "cell_type": "code",
   "execution_count": 5,
   "id": "b03d91a1-a133-41f2-bef2-20e594470970",
   "metadata": {},
   "outputs": [
    {
     "data": {
      "text/plain": [
       "15"
      ]
     },
     "execution_count": 5,
     "metadata": {},
     "output_type": "execute_result"
    }
   ],
   "source": [
    "5*3"
   ]
  },
  {
   "cell_type": "code",
   "execution_count": 7,
   "id": "1b50b9e6-918d-41d9-92ca-761c7186e54b",
   "metadata": {},
   "outputs": [
    {
     "data": {
      "text/plain": [
       "125"
      ]
     },
     "execution_count": 7,
     "metadata": {},
     "output_type": "execute_result"
    }
   ],
   "source": [
    "5**3"
   ]
  },
  {
   "cell_type": "code",
   "execution_count": 9,
   "id": "927187bc-312e-436e-b195-d645842362c9",
   "metadata": {},
   "outputs": [
    {
     "data": {
      "text/plain": [
       "1"
      ]
     },
     "execution_count": 9,
     "metadata": {},
     "output_type": "execute_result"
    }
   ],
   "source": [
    "10%3"
   ]
  },
  {
   "cell_type": "code",
   "execution_count": 11,
   "id": "ff4c1cbb-4bb2-446d-9592-0d2e82813639",
   "metadata": {},
   "outputs": [
    {
     "data": {
      "text/plain": [
       "5.4"
      ]
     },
     "execution_count": 11,
     "metadata": {},
     "output_type": "execute_result"
    }
   ],
   "source": [
    "27/5"
   ]
  },
  {
   "cell_type": "code",
   "execution_count": 13,
   "id": "900f7967-77d9-4978-9dac-c57a5253d096",
   "metadata": {},
   "outputs": [
    {
     "data": {
      "text/plain": [
       "5"
      ]
     },
     "execution_count": 13,
     "metadata": {},
     "output_type": "execute_result"
    }
   ],
   "source": [
    "27//5"
   ]
  },
  {
   "cell_type": "code",
   "execution_count": 15,
   "id": "faa73871-5136-43f3-86aa-354e2bef1c51",
   "metadata": {},
   "outputs": [
    {
     "data": {
      "text/plain": [
       "'44444'"
      ]
     },
     "execution_count": 15,
     "metadata": {},
     "output_type": "execute_result"
    }
   ],
   "source": [
    "'4'*5"
   ]
  },
  {
   "cell_type": "code",
   "execution_count": 17,
   "id": "917cbab7-04dc-4fc8-a3db-8fcb0a637a65",
   "metadata": {},
   "outputs": [
    {
     "data": {
      "text/plain": [
       "'hellohellohellohellohello'"
      ]
     },
     "execution_count": 17,
     "metadata": {},
     "output_type": "execute_result"
    }
   ],
   "source": [
    "'hello'*5"
   ]
  },
  {
   "cell_type": "code",
   "execution_count": 19,
   "id": "6a60aff3-8e15-49fa-84b8-f9ab87044ee0",
   "metadata": {},
   "outputs": [],
   "source": [
    "my_string='Hello'"
   ]
  },
  {
   "cell_type": "code",
   "execution_count": 23,
   "id": "9d75e4d5-17f0-458f-abd8-d9686f42f51e",
   "metadata": {},
   "outputs": [
    {
     "data": {
      "text/plain": [
       "'H'"
      ]
     },
     "execution_count": 23,
     "metadata": {},
     "output_type": "execute_result"
    }
   ],
   "source": [
    "my_string[0]"
   ]
  },
  {
   "cell_type": "code",
   "execution_count": 27,
   "id": "39eb5954-26a0-416e-aa38-0806f3f5806e",
   "metadata": {},
   "outputs": [
    {
     "data": {
      "text/plain": [
       "'e'"
      ]
     },
     "execution_count": 27,
     "metadata": {},
     "output_type": "execute_result"
    }
   ],
   "source": [
    "my_string[-4]"
   ]
  },
  {
   "cell_type": "code",
   "execution_count": 29,
   "id": "bec8530d-d9c9-4c37-88b1-9772881764a2",
   "metadata": {},
   "outputs": [],
   "source": [
    "x2='01234'"
   ]
  },
  {
   "cell_type": "code",
   "execution_count": 31,
   "id": "736b9f81-f6e7-48f7-84a8-44756b31ef5d",
   "metadata": {},
   "outputs": [
    {
     "data": {
      "text/plain": [
       "'012'"
      ]
     },
     "execution_count": 31,
     "metadata": {},
     "output_type": "execute_result"
    }
   ],
   "source": [
    "x2[0:3] # last number is excluded"
   ]
  },
  {
   "cell_type": "code",
   "execution_count": 33,
   "id": "63082309-75d7-4399-93a2-7fc78b13296a",
   "metadata": {},
   "outputs": [],
   "source": [
    "x2 = \"hey learning python?\""
   ]
  },
  {
   "cell_type": "code",
   "execution_count": 35,
   "id": "242e8f6d-606d-48fe-a7ca-aed4e1020bfd",
   "metadata": {},
   "outputs": [
    {
     "data": {
      "text/plain": [
       "'hey lerani'"
      ]
     },
     "execution_count": 35,
     "metadata": {},
     "output_type": "execute_result"
    }
   ],
   "source": [
    "x2[0:10] # hey learni"
   ]
  },
  {
   "cell_type": "code",
   "execution_count": 37,
   "id": "34e2bcba-e23d-4325-8797-3e705e9552a6",
   "metadata": {},
   "outputs": [
    {
     "data": {
      "text/plain": [
       "' leraning '"
      ]
     },
     "execution_count": 37,
     "metadata": {},
     "output_type": "execute_result"
    }
   ],
   "source": [
    "x2[3:13] # ' learning '"
   ]
  },
  {
   "cell_type": "code",
   "execution_count": 39,
   "id": "e1993862-45d1-482e-8fda-4c9f5bec0d31",
   "metadata": {},
   "outputs": [
    {
     "data": {
      "text/plain": [
       "' '"
      ]
     },
     "execution_count": 39,
     "metadata": {},
     "output_type": "execute_result"
    }
   ],
   "source": [
    "x2[-8] # ' '"
   ]
  },
  {
   "cell_type": "code",
   "execution_count": 41,
   "id": "430401ee-1b5a-4dfb-95e6-2b89eb62878f",
   "metadata": {},
   "outputs": [
    {
     "data": {
      "text/plain": [
       "' pyt'"
      ]
     },
     "execution_count": 41,
     "metadata": {},
     "output_type": "execute_result"
    }
   ],
   "source": [
    "x2[12:16] # ' pyt'"
   ]
  },
  {
   "cell_type": "code",
   "execution_count": null,
   "id": "28bc6bbf-4473-4e32-a9ea-2b9d13e89f44",
   "metadata": {},
   "outputs": [],
   "source": [
    "# list duples"
   ]
  },
  {
   "cell_type": "code",
   "execution_count": 2,
   "id": "038c102d-f196-486d-bd35-b93cc27dad4b",
   "metadata": {},
   "outputs": [],
   "source": [
    "empty_list = []"
   ]
  },
  {
   "cell_type": "code",
   "execution_count": 24,
   "id": "b1c29004-42a1-404f-9fbb-b5eb3e42d311",
   "metadata": {},
   "outputs": [],
   "source": [
    "empty_list.append('upgrad')"
   ]
  },
  {
   "cell_type": "markdown",
   "id": "a71cb9ac-d537-4044-805d-6ab5bc715d72",
   "metadata": {},
   "source": []
  },
  {
   "cell_type": "code",
   "execution_count": 26,
   "id": "2c27b64b-7451-4e3e-b9e0-ea02047269ed",
   "metadata": {},
   "outputs": [
    {
     "data": {
      "text/plain": [
       "['upgrad']"
      ]
     },
     "execution_count": 26,
     "metadata": {},
     "output_type": "execute_result"
    }
   ],
   "source": [
    "empty_list"
   ]
  },
  {
   "cell_type": "code",
   "execution_count": 28,
   "id": "73aad94e-edc4-44fb-8d20-d81763bc6a06",
   "metadata": {},
   "outputs": [],
   "source": [
    "empty_list.append('hey')"
   ]
  },
  {
   "cell_type": "code",
   "execution_count": 30,
   "id": "1fdfb8cc-ec87-4102-a5be-f325538d96b7",
   "metadata": {},
   "outputs": [
    {
     "data": {
      "text/plain": [
       "['upgrad', 'hey']"
      ]
     },
     "execution_count": 30,
     "metadata": {},
     "output_type": "execute_result"
    }
   ],
   "source": [
    "empty_list"
   ]
  },
  {
   "cell_type": "code",
   "execution_count": 32,
   "id": "5b528468-8c40-459d-ba2f-50025134d22d",
   "metadata": {},
   "outputs": [],
   "source": [
    "a = [12, 14]\n",
    "b = [15, 16]"
   ]
  },
  {
   "cell_type": "code",
   "execution_count": 34,
   "id": "2fa3100a-2fa6-4ef0-bae9-80a370edaaed",
   "metadata": {},
   "outputs": [
    {
     "data": {
      "text/plain": [
       "[12, 14, 15, 16]"
      ]
     },
     "execution_count": 34,
     "metadata": {},
     "output_type": "execute_result"
    }
   ],
   "source": [
    "a + b"
   ]
  },
  {
   "cell_type": "code",
   "execution_count": null,
   "id": "b0113bf5-4e1c-43ba-ae55-4b0b46fbf937",
   "metadata": {},
   "outputs": [],
   "source": [
    "#start:stop:step!"
   ]
  },
  {
   "cell_type": "code",
   "execution_count": 36,
   "id": "9cc314d9-385e-4067-b4ca-e7e86e6c6525",
   "metadata": {},
   "outputs": [],
   "source": [
    "another_list = [\"hello\", \"my\", \"bestest\", \"old\", \"friend\"]"
   ]
  },
  {
   "cell_type": "code",
   "execution_count": 38,
   "id": "30043031-64ea-45f2-8e2c-a3f5dbf1ad6a",
   "metadata": {},
   "outputs": [
    {
     "data": {
      "text/plain": [
       "['hello', 'bestest']"
      ]
     },
     "execution_count": 38,
     "metadata": {},
     "output_type": "execute_result"
    }
   ],
   "source": [
    "another_list[0:4:2]"
   ]
  },
  {
   "cell_type": "code",
   "execution_count": 40,
   "id": "b652cf82-2a3a-4e45-af7e-be178ea69765",
   "metadata": {},
   "outputs": [],
   "source": [
    "x = [[\"bang\", \"delhi\",\"mumbai\"],1,2,3,[1,2,3]]"
   ]
  },
  {
   "cell_type": "code",
   "execution_count": 42,
   "id": "e5e33fe8-54b5-491a-98de-5fe8a862f152",
   "metadata": {},
   "outputs": [
    {
     "data": {
      "text/plain": [
       "[['bang', 'delhi', 'mumbai'], 1, 2, 3, [1, 2, 3]]"
      ]
     },
     "execution_count": 42,
     "metadata": {},
     "output_type": "execute_result"
    }
   ],
   "source": [
    "x"
   ]
  },
  {
   "cell_type": "code",
   "execution_count": 44,
   "id": "a5cf9bfd-b820-4906-b064-58aee642c83c",
   "metadata": {},
   "outputs": [
    {
     "data": {
      "text/plain": [
       "'m'"
      ]
     },
     "execution_count": 44,
     "metadata": {},
     "output_type": "execute_result"
    }
   ],
   "source": [
    "x[0][-1][::-1][0:4][3:]"
   ]
  },
  {
   "cell_type": "code",
   "execution_count": 46,
   "id": "7778f833-20fa-4e79-95f9-3c19f21096e9",
   "metadata": {},
   "outputs": [
    {
     "data": {
      "text/plain": [
       "'iabmum'"
      ]
     },
     "execution_count": 46,
     "metadata": {},
     "output_type": "execute_result"
    }
   ],
   "source": [
    "x[0][-1][::-1]"
   ]
  },
  {
   "cell_type": "code",
   "execution_count": 48,
   "id": "80d4ddf6-d4f4-4c40-b83f-d84f6c056d4a",
   "metadata": {},
   "outputs": [
    {
     "data": {
      "text/plain": [
       "'iabm'"
      ]
     },
     "execution_count": 48,
     "metadata": {},
     "output_type": "execute_result"
    }
   ],
   "source": [
    "x[0][-1][::-1][0:4]"
   ]
  },
  {
   "cell_type": "code",
   "execution_count": 50,
   "id": "f18cbd2d-ebbb-4826-a842-224dd0163040",
   "metadata": {},
   "outputs": [
    {
     "data": {
      "text/plain": [
       "'m'"
      ]
     },
     "execution_count": 50,
     "metadata": {},
     "output_type": "execute_result"
    }
   ],
   "source": [
    "x[0][-1][::-1][0:4][3:]"
   ]
  },
  {
   "cell_type": "code",
   "execution_count": 54,
   "id": "84a95dee-fccf-4e65-b11b-b39e6bf189bc",
   "metadata": {},
   "outputs": [
    {
     "data": {
      "text/plain": [
       "['hello', 'my', 'bestest', 'old', 'friend']"
      ]
     },
     "execution_count": 54,
     "metadata": {},
     "output_type": "execute_result"
    }
   ],
   "source": [
    "another_list[::] # Complete list"
   ]
  },
  {
   "cell_type": "code",
   "execution_count": 58,
   "id": "9435ad23-3542-4c51-befe-76345e49b1be",
   "metadata": {},
   "outputs": [
    {
     "data": {
      "text/plain": [
       "['old', 'friend']"
      ]
     },
     "execution_count": 58,
     "metadata": {},
     "output_type": "execute_result"
    }
   ],
   "source": [
    "another_list[3:] # from three till end"
   ]
  },
  {
   "cell_type": "code",
   "execution_count": 62,
   "id": "c6b4629d-ea3e-4bf4-b267-2ef55280a8e9",
   "metadata": {},
   "outputs": [
    {
     "data": {
      "text/plain": [
       "['hello', 'my', 'bestest']"
      ]
     },
     "execution_count": 62,
     "metadata": {},
     "output_type": "execute_result"
    }
   ],
   "source": [
    "another_list[:3] # from starting till the number"
   ]
  },
  {
   "cell_type": "code",
   "execution_count": null,
   "id": "7335e027-946d-47b0-a095-3ce1e186cf80",
   "metadata": {},
   "outputs": [],
   "source": [
    "# dict -> {key:value}"
   ]
  },
  {
   "cell_type": "code",
   "execution_count": 64,
   "id": "ffe8e764-00fc-4b89-9d83-00391e7a75d2",
   "metadata": {},
   "outputs": [],
   "source": [
    "my_dict = {\"1\": \"One\", \"2\": \"two\", \"even\": [2,4], \"odd\": [1,3]}"
   ]
  },
  {
   "cell_type": "code",
   "execution_count": 66,
   "id": "0249c57b-cb31-49f1-94d0-1e8d6a5b27b0",
   "metadata": {},
   "outputs": [
    {
     "data": {
      "text/plain": [
       "{'1': 'One', '2': 'two', 'even': [2, 4], 'odd': [1, 3]}"
      ]
     },
     "execution_count": 66,
     "metadata": {},
     "output_type": "execute_result"
    }
   ],
   "source": [
    "my_dict"
   ]
  },
  {
   "cell_type": "code",
   "execution_count": 68,
   "id": "756ddaae-6116-436d-a1dc-95629f964241",
   "metadata": {},
   "outputs": [
    {
     "data": {
      "text/plain": [
       "'One'"
      ]
     },
     "execution_count": 68,
     "metadata": {},
     "output_type": "execute_result"
    }
   ],
   "source": [
    "my_dict[\"1\"]"
   ]
  },
  {
   "cell_type": "code",
   "execution_count": 70,
   "id": "59a2fcf0-be45-4a7a-8124-6e95e84b6c2e",
   "metadata": {},
   "outputs": [
    {
     "data": {
      "text/plain": [
       "[1, 3]"
      ]
     },
     "execution_count": 70,
     "metadata": {},
     "output_type": "execute_result"
    }
   ],
   "source": [
    "my_dict[\"odd\"]"
   ]
  },
  {
   "cell_type": "code",
   "execution_count": 72,
   "id": "ac274f1a-0537-4161-aa0c-c518a9476010",
   "metadata": {},
   "outputs": [
    {
     "data": {
      "text/plain": [
       "dict_keys(['1', '2', 'even', 'odd'])"
      ]
     },
     "execution_count": 72,
     "metadata": {},
     "output_type": "execute_result"
    }
   ],
   "source": [
    "my_dict.keys()"
   ]
  },
  {
   "cell_type": "code",
   "execution_count": 74,
   "id": "fbc67cb6-845f-48f4-aaf5-fb5d97ca637a",
   "metadata": {},
   "outputs": [
    {
     "data": {
      "text/plain": [
       "dict_values(['One', 'two', [2, 4], [1, 3]])"
      ]
     },
     "execution_count": 74,
     "metadata": {},
     "output_type": "execute_result"
    }
   ],
   "source": [
    "my_dict.values()"
   ]
  },
  {
   "cell_type": "code",
   "execution_count": 76,
   "id": "3395de3d-3dc8-4123-9fe0-dabda6cd51e7",
   "metadata": {},
   "outputs": [
    {
     "data": {
      "text/plain": [
       "dict_items([('1', 'One'), ('2', 'two'), ('even', [2, 4]), ('odd', [1, 3])])"
      ]
     },
     "execution_count": 76,
     "metadata": {},
     "output_type": "execute_result"
    }
   ],
   "source": [
    "my_dict.items() # Key and Values"
   ]
  },
  {
   "cell_type": "code",
   "execution_count": 78,
   "id": "fb946f13-3dc3-44df-8ed9-e6f939a9d78d",
   "metadata": {},
   "outputs": [],
   "source": [
    "# list  : []\n",
    "# tuple : ()\n",
    "# dict  : {k:v pair}\n",
    "# set   : {} -> Sorted, unique, no idexing"
   ]
  },
  {
   "cell_type": "code",
   "execution_count": 80,
   "id": "11f4e0a1-ac1d-4600-821d-af0dae18b885",
   "metadata": {},
   "outputs": [],
   "source": [
    "my_set = {1,22,3,3,456,9,8,8,6,7,6,4}"
   ]
  },
  {
   "cell_type": "code",
   "execution_count": 82,
   "id": "0095a398-22fc-4802-9224-54fe16ee8a9a",
   "metadata": {},
   "outputs": [
    {
     "data": {
      "text/plain": [
       "{1, 3, 4, 6, 7, 8, 9, 22, 456}"
      ]
     },
     "execution_count": 82,
     "metadata": {},
     "output_type": "execute_result"
    }
   ],
   "source": [
    "my_set"
   ]
  },
  {
   "cell_type": "code",
   "execution_count": 84,
   "id": "1083d3ab-fe87-44ad-8eba-113ec73dd302",
   "metadata": {},
   "outputs": [
    {
     "ename": "TypeError",
     "evalue": "'set' object is not subscriptable",
     "output_type": "error",
     "traceback": [
      "\u001b[0;31m---------------------------------------------------------------------------\u001b[0m",
      "\u001b[0;31mTypeError\u001b[0m                                 Traceback (most recent call last)",
      "Cell \u001b[0;32mIn[84], line 1\u001b[0m\n\u001b[0;32m----> 1\u001b[0m my_set[\u001b[38;5;241m0\u001b[39m]\n",
      "\u001b[0;31mTypeError\u001b[0m: 'set' object is not subscriptable"
     ]
    }
   ],
   "source": [
    "my_set[0]"
   ]
  },
  {
   "cell_type": "code",
   "execution_count": 90,
   "id": "60027a9b-e64d-4242-8baa-96a538debc1e",
   "metadata": {},
   "outputs": [],
   "source": [
    "set1 = {1,2,3,4}\n",
    "set2 = {2,3,5,6,7}"
   ]
  },
  {
   "cell_type": "code",
   "execution_count": 92,
   "id": "f46d433e-79ac-4050-824b-58729ba91cb8",
   "metadata": {},
   "outputs": [
    {
     "data": {
      "text/plain": [
       "{1, 2, 3, 4, 5, 6, 7}"
      ]
     },
     "execution_count": 92,
     "metadata": {},
     "output_type": "execute_result"
    }
   ],
   "source": [
    "set1.union(set2)"
   ]
  },
  {
   "cell_type": "code",
   "execution_count": 94,
   "id": "f267601c-2656-455f-b58c-767f925bfdae",
   "metadata": {},
   "outputs": [
    {
     "data": {
      "text/plain": [
       "{2, 3}"
      ]
     },
     "execution_count": 94,
     "metadata": {},
     "output_type": "execute_result"
    }
   ],
   "source": [
    "set1.intersection(set2)"
   ]
  },
  {
   "cell_type": "code",
   "execution_count": 104,
   "id": "9f8227e9-debd-4a17-800b-748554671c01",
   "metadata": {},
   "outputs": [
    {
     "name": "stdout",
     "output_type": "stream",
     "text": [
      "Invalid\n"
     ]
    }
   ],
   "source": [
    "age = -100\n",
    "if age >=18:\n",
    "    print(\"Major Valid\")\n",
    "elif age >=0:\n",
    "    print(\"Minor Valid\")\n",
    "else:\n",
    "    print(\"Invalid\")"
   ]
  },
  {
   "cell_type": "code",
   "execution_count": 100,
   "id": "6797beee-55d7-4dfe-9996-5571968a6dce",
   "metadata": {},
   "outputs": [
    {
     "name": "stdout",
     "output_type": "stream",
     "text": [
      "Minor Valid\n"
     ]
    }
   ],
   "source": [
    "age = 10\n",
    "if age >=18:\n",
    "    print(\"Major Valid\")\n",
    "elif age >=0:\n",
    "    print(\"Minor Valid\")\n",
    "else:\n",
    "    print(\"Invalid\")"
   ]
  },
  {
   "cell_type": "code",
   "execution_count": 102,
   "id": "13182bf7-1d61-4f13-a01e-89cc4a181f1a",
   "metadata": {},
   "outputs": [
    {
     "name": "stdout",
     "output_type": "stream",
     "text": [
      "Major Valid\n"
     ]
    }
   ],
   "source": [
    "age = 22\n",
    "if age >=18:\n",
    "    print(\"Major Valid\")\n",
    "elif age >=0:\n",
    "    print(\"Minor Valid\")\n",
    "else:\n",
    "    print(\"Invalid\")"
   ]
  },
  {
   "cell_type": "code",
   "execution_count": 106,
   "id": "71971014-e93a-4be6-91c5-4237d45c9fab",
   "metadata": {},
   "outputs": [],
   "source": [
    "x = 12345\n",
    "# o/p 1+2+3+4+5 = 15"
   ]
  },
  {
   "cell_type": "code",
   "execution_count": 116,
   "id": "788ff106-5f5d-41ad-b16d-fd7b3741cc5a",
   "metadata": {},
   "outputs": [
    {
     "data": {
      "text/plain": [
       "'12345'"
      ]
     },
     "execution_count": 116,
     "metadata": {},
     "output_type": "execute_result"
    }
   ],
   "source": [
    "x_string = str(x)\n",
    "x_string"
   ]
  },
  {
   "cell_type": "code",
   "execution_count": 128,
   "id": "72190e38-40c6-483d-afe3-462d976cad8c",
   "metadata": {},
   "outputs": [
    {
     "data": {
      "text/plain": [
       "15"
      ]
     },
     "execution_count": 128,
     "metadata": {},
     "output_type": "execute_result"
    }
   ],
   "source": [
    "int(x_string[0]) + int(x_string[1]) + int(x_string[2]) + int(x_string[3]) + int(x_string[4])"
   ]
  },
  {
   "cell_type": "code",
   "execution_count": 130,
   "id": "64eac8dc-dc39-4203-881a-f252da080789",
   "metadata": {},
   "outputs": [],
   "source": [
    "l = [100,200,300,\"upgrad\",\"science\",1,2,2,3,4,6] # print the 6th element of the list if len of list > 8 # else : not enough elements"
   ]
  },
  {
   "cell_type": "code",
   "execution_count": 140,
   "id": "6844cda5-a43a-434f-9d96-4cb9be709ec3",
   "metadata": {},
   "outputs": [
    {
     "name": "stdout",
     "output_type": "stream",
     "text": [
      "1\n"
     ]
    }
   ],
   "source": [
    "if len(l) > 8:\n",
    "    print(l[5])\n",
    "else: \n",
    "    print(\"not enough elements\")\n",
    "    "
   ]
  },
  {
   "cell_type": "code",
   "execution_count": 162,
   "id": "273310e4-00ef-4ccc-97ac-e4b3725608f2",
   "metadata": {},
   "outputs": [
    {
     "name": "stdout",
     "output_type": "stream",
     "text": [
      "not enough elements\n"
     ]
    }
   ],
   "source": [
    "l = (3,4) # check if l is a list or not, if not, print not a list?\n",
    "if len(l) > 8:\n",
    "    print(l[5])\n",
    "else: \n",
    "    print(\"not enough elements\")"
   ]
  },
  {
   "cell_type": "code",
   "execution_count": 164,
   "id": "415904a2-cfbb-45e2-a506-bc94e7da144c",
   "metadata": {},
   "outputs": [
    {
     "name": "stdout",
     "output_type": "stream",
     "text": [
      "not a list\n"
     ]
    }
   ],
   "source": [
    "if type(l) == list:\n",
    "    if len(l) > 8:\n",
    "        print(l[5])\n",
    "    else: \n",
    "        print(\"not enough elements\")\n",
    "else: \n",
    "    print(\"not a list\")\n",
    "    "
   ]
  },
  {
   "cell_type": "code",
   "execution_count": 168,
   "id": "5de83d8f-b1f6-4181-aac0-c09629156c1a",
   "metadata": {},
   "outputs": [
    {
     "name": "stdin",
     "output_type": "stream",
     "text": [
      "Hey bro! choose a username jags\n",
      "Where are yo from? tn\n"
     ]
    },
    {
     "name": "stdout",
     "output_type": "stream",
     "text": [
      "hello jags, tn is a nice place to live\n"
     ]
    }
   ],
   "source": [
    "username = input('Hey bro! choose a username')\n",
    "city = input ('Where are you from?')\n",
    "state = input('which stat ')\n",
    "\n",
    "print(f'hello {username}, {city} is a nice place to live')"
   ]
  },
  {
   "cell_type": "code",
   "execution_count": 174,
   "id": "ac61a566-da2b-455c-94b1-cd5c58daa59e",
   "metadata": {},
   "outputs": [
    {
     "name": "stdin",
     "output_type": "stream",
     "text": [
      "Enter a number -8\n"
     ]
    },
    {
     "name": "stdout",
     "output_type": "stream",
     "text": [
      "This is a negative number\n"
     ]
    }
   ],
   "source": [
    "input_numb = int(input('Enter a number'))\n",
    "if input_numb == 0:\n",
    "    print(\"This is a Natural number zero\")\n",
    "elif input_numb > 0:\n",
    "    print(\"This is a positive number\")\n",
    "else: \n",
    "    print(\"This is a negative number\")"
   ]
  },
  {
   "cell_type": "code",
   "execution_count": 177,
   "id": "ec182977-85bc-459b-bcd4-da1c5996d21c",
   "metadata": {},
   "outputs": [
    {
     "name": "stdout",
     "output_type": "stream",
     "text": [
      "u\n",
      "p\n",
      "g\n",
      "r\n",
      "a\n",
      "d\n"
     ]
    }
   ],
   "source": [
    "x2 = \"upgrad\"\n",
    "for x in x2:\n",
    "    print(x)"
   ]
  },
  {
   "cell_type": "code",
   "execution_count": 187,
   "id": "024e4370-4e17-4121-8abe-997083ec4ba5",
   "metadata": {},
   "outputs": [
    {
     "name": "stdout",
     "output_type": "stream",
     "text": [
      "a\n",
      "b\n",
      "-------\n",
      "a\n",
      "b\n",
      "-------Values\n",
      "1\n",
      "2\n"
     ]
    }
   ],
   "source": [
    "dct = {\"a\":1, \"b\":2}\n",
    "for i in dct:\n",
    "    print(i)\n",
    "print(\"-------\")\n",
    "for i in dct.keys():\n",
    "    print(i)\n",
    "print(\"-------Values\")\n",
    "for i in dct.values():\n",
    "    print(i)"
   ]
  },
  {
   "cell_type": "code",
   "execution_count": 195,
   "id": "de2fefe7-7f39-44c7-b45b-0c7fada13ee6",
   "metadata": {},
   "outputs": [
    {
     "name": "stdout",
     "output_type": "stream",
     "text": [
      "('a', 1)\n",
      "<class 'tuple'>\n",
      "('b', 2)\n",
      "<class 'tuple'>\n",
      "-------\n",
      "a 1\n",
      "b 2\n"
     ]
    }
   ],
   "source": [
    "for i in dct.items():\n",
    "    print(i)\n",
    "    print(type(i))\n",
    "print(\"-------\")\n",
    "for k,v in dct.items():\n",
    "    print(k,v)"
   ]
  },
  {
   "cell_type": "code",
   "execution_count": 199,
   "id": "ec274c49-ff7f-4f4e-b35e-9a51f2349200",
   "metadata": {},
   "outputs": [],
   "source": [
    "# While loop infinite \n",
    "# i = -1\n",
    "# while (i<6):\n",
    "#     print(i)\n",
    "#     i = i - 1"
   ]
  },
  {
   "cell_type": "code",
   "execution_count": null,
   "id": "ebd2cb80-e6de-4a7e-8bbe-233d5929a3de",
   "metadata": {},
   "outputs": [],
   "source": [
    "# Transfer Statements"
   ]
  },
  {
   "cell_type": "code",
   "execution_count": 201,
   "id": "c2fd036d-aef8-4041-a476-1d3c62e18638",
   "metadata": {},
   "outputs": [
    {
     "name": "stdout",
     "output_type": "stream",
     "text": [
      "-1\n",
      "-2\n",
      "-3\n",
      "-4\n",
      "-5\n",
      "-6\n",
      "-7\n"
     ]
    }
   ],
   "source": [
    "i = -1\n",
    "while (i<6):\n",
    "    print(i)\n",
    "    i = i - 1\n",
    "    if i == -8:\n",
    "        break"
   ]
  },
  {
   "cell_type": "code",
   "execution_count": 209,
   "id": "e09216c4-69a9-46e5-b223-5cf489466f73",
   "metadata": {},
   "outputs": [
    {
     "name": "stdout",
     "output_type": "stream",
     "text": [
      "0\n",
      "1\n",
      "2\n",
      "3\n",
      "4\n"
     ]
    }
   ],
   "source": [
    "for i in range(5):\n",
    "    if i ==2:\n",
    "        pass       # Placeholder, if you wanna add the logic later\n",
    "    print(i)"
   ]
  },
  {
   "cell_type": "code",
   "execution_count": 207,
   "id": "38b23a73-1499-443b-9ac1-5aa2294d6eb7",
   "metadata": {},
   "outputs": [
    {
     "name": "stdout",
     "output_type": "stream",
     "text": [
      "0\n",
      "1\n",
      "3\n",
      "4\n"
     ]
    }
   ],
   "source": [
    "for i in range(5):\n",
    "    if i ==2:\n",
    "        continue       # Placeholder\n",
    "    print(i)"
   ]
  },
  {
   "cell_type": "code",
   "execution_count": 217,
   "id": "fe7b0a2d-55e1-4493-8ef4-fd3804b985bb",
   "metadata": {},
   "outputs": [],
   "source": [
    "l = [99,100,100,99,98,101,53,46,1]\n",
    "# write a code which finds second highest element from the last?\n",
    "# o/p : 100"
   ]
  },
  {
   "cell_type": "code",
   "execution_count": 235,
   "id": "85474b8f-ed8f-4f13-8b89-56628ff4116d",
   "metadata": {},
   "outputs": [
    {
     "data": {
      "text/plain": [
       "100"
      ]
     },
     "execution_count": 235,
     "metadata": {},
     "output_type": "execute_result"
    }
   ],
   "source": [
    "sorted(set(l))[-2]"
   ]
  },
  {
   "cell_type": "code",
   "execution_count": 237,
   "id": "399b61e7-6d66-4bff-8ba2-6225d9d3ccda",
   "metadata": {},
   "outputs": [],
   "source": [
    "# Given an integer x return x with its digits reversed\n",
    "# Example 1:\n",
    "x = 123\n",
    "# O/p 321\n",
    "# Example 2:\n",
    "x = -123\n",
    "# O/p -321"
   ]
  },
  {
   "cell_type": "code",
   "execution_count": 263,
   "id": "a4d52705-11cd-4462-95a7-27b71400a464",
   "metadata": {},
   "outputs": [
    {
     "name": "stdin",
     "output_type": "stream",
     "text": [
      "Enter a number 6547\n"
     ]
    },
    {
     "name": "stdout",
     "output_type": "stream",
     "text": [
      "7456\n"
     ]
    }
   ],
   "source": [
    "x = int(input('Enter a number'))\n",
    "if x > 0:\n",
    "    print(int(str(x)[::-1]))\n",
    "else:\n",
    "    print(int(str(x)[1:][::-1])*-1)\n",
    "# x_len = len(x)\n",
    "# while x_len > 0:\n",
    "#     print(x[x_len-1])\n",
    "#     x_len = x_len - 1\n"
   ]
  },
  {
   "cell_type": "code",
   "execution_count": 271,
   "id": "d6894ab7-d103-418c-8bcf-0653f2cff69d",
   "metadata": {},
   "outputs": [],
   "source": [
    "# square odd numbers!\n",
    "li = [1,2,3,4,5]\n",
    "# o/p: [1,2,9,4,25]"
   ]
  },
  {
   "cell_type": "code",
   "execution_count": 275,
   "id": "7fed3a09-b51f-49b2-a9be-75e969f79a6b",
   "metadata": {},
   "outputs": [
    {
     "data": {
      "text/plain": [
       "[1, 2, 9, 4, 25]"
      ]
     },
     "execution_count": 275,
     "metadata": {},
     "output_type": "execute_result"
    }
   ],
   "source": [
    "nu = []\n",
    "for x in li:\n",
    "    if x%2 != 0:\n",
    "       nu.append(x**2)\n",
    "    else:\n",
    "        nu.append(x)\n",
    "nu"
   ]
  },
  {
   "cell_type": "code",
   "execution_count": 291,
   "id": "fc1e4a4f-d00d-468c-9081-1151b8ccd1f8",
   "metadata": {},
   "outputs": [
    {
     "data": {
      "text/plain": [
       "['elppA', 'egaro', 'allerbmu']"
      ]
     },
     "execution_count": 291,
     "metadata": {},
     "output_type": "execute_result"
    }
   ],
   "source": [
    "vowels = {'a', 'e', 'i', 'o', 'u'}\n",
    "lst_reversed = []\n",
    "lst = [\"Apple\", \"Banana\", \"orage\", \"grape\", \"umbrella\"]\n",
    "for l in lst:\n",
    "    if l[0].lower() in vowels:\n",
    "        lst_reversed.append(l[::-1])\n",
    "lst_reversed"
   ]
  },
  {
   "cell_type": "code",
   "execution_count": 295,
   "id": "4e79b89e-ded8-463e-bfcf-77a7c7902ba0",
   "metadata": {},
   "outputs": [],
   "source": [
    "dct = {1:\"data\",2:\"science\"} \n",
    "# o/p : {\"data\":1, \"science\":2}"
   ]
  },
  {
   "cell_type": "code",
   "execution_count": 303,
   "id": "d0121538-4a36-4bac-9bed-7778e3663156",
   "metadata": {},
   "outputs": [
    {
     "data": {
      "text/plain": [
       "{'data': '1', 'science': '2'}"
      ]
     },
     "execution_count": 303,
     "metadata": {},
     "output_type": "execute_result"
    }
   ],
   "source": [
    "dct_reversed = {}\n",
    "for k in dct.keys():\n",
    "    dct_reversed[dct.get(k)]=str(k)\n",
    "dct_reversed"
   ]
  },
  {
   "cell_type": "code",
   "execution_count": 309,
   "id": "52f2f8cf-9851-4ecd-9bdb-c4a75fa6f0ad",
   "metadata": {},
   "outputs": [
    {
     "data": {
      "text/plain": [
       "123"
      ]
     },
     "execution_count": 309,
     "metadata": {},
     "output_type": "execute_result"
    }
   ],
   "source": [
    "x = -123\n",
    "int(str(x)[1:])"
   ]
  },
  {
   "cell_type": "code",
   "execution_count": 311,
   "id": "6e31dff8-9f81-4095-acb5-150d89b2760c",
   "metadata": {},
   "outputs": [],
   "source": [
    "x = '12aeiAE34' \n",
    "# o/p:4321 # remove alphabets and reverse the digits (loops)"
   ]
  },
  {
   "cell_type": "code",
   "execution_count": 339,
   "id": "33aa304a-6cb0-4c35-8d9f-d9634640eb35",
   "metadata": {},
   "outputs": [
    {
     "name": "stdout",
     "output_type": "stream",
     "text": [
      "1\n",
      "2\n",
      "3\n",
      "4\n"
     ]
    },
    {
     "data": {
      "text/plain": [
       "''"
      ]
     },
     "execution_count": 339,
     "metadata": {},
     "output_type": "execute_result"
    }
   ],
   "source": [
    "x_str=''\n",
    "for v in x:\n",
    "    if v.isdigit():\n",
    "      print(v)\n",
    "x_str"
   ]
  },
  {
   "cell_type": "code",
   "execution_count": null,
   "id": "b51648b9-f8f1-4e54-b78b-ca8b7b6456b3",
   "metadata": {},
   "outputs": [],
   "source": [
    "# Write a code that takes a dictionary containing player \n",
    "# names and their scores, and a list of tuples where each \n",
    "# tuple contains a player's name and points to add to their score. \n",
    "# player_scores = {'Alice': 10, 'Bob': 8, 'Carol': 15} updates = [('Alice', 5), ('Bob', 2), ('Dave', 7)] \n",
    "# O/P : {'Alice': 15, 'Bob': 10, 'Carol': 15, 'Dave': 7}"
   ]
  },
  {
   "cell_type": "code",
   "execution_count": 383,
   "id": "8e559c8f-0f45-4b64-bc77-20eb23a13f03",
   "metadata": {},
   "outputs": [
    {
     "data": {
      "text/plain": [
       "{'Alice': 15, 'Bob': 10, 'Carol': 15, 'Dave': 7}"
      ]
     },
     "execution_count": 383,
     "metadata": {},
     "output_type": "execute_result"
    }
   ],
   "source": [
    "player_scores = {'Alice': 10, 'Bob': 8, 'Carol': 15} \n",
    "updates = [('Alice', 5), ('Bob', 2), ('Dave', 7)] \n",
    "for i in updates:\n",
    "    cur_val = player_scores.get(i[0], 0)\n",
    "    player_scores[i[0]] = cur_val + i[1]\n",
    "player_scores"
   ]
  },
  {
   "cell_type": "code",
   "execution_count": 6,
   "id": "d372a5f6-885d-4c2a-9c3b-b6d00b61db36",
   "metadata": {},
   "outputs": [
    {
     "name": "stdout",
     "output_type": "stream",
     "text": [
      "I am printing value A 20\n"
     ]
    },
    {
     "data": {
      "text/plain": [
       "6"
      ]
     },
     "execution_count": 6,
     "metadata": {},
     "output_type": "execute_result"
    }
   ],
   "source": [
    "# local vs global\n",
    "A = 20\n",
    "\n",
    "def find_sum(l):\n",
    "    print(\"I am printing value A\", A)\n",
    "    total =0\n",
    "    for x in l:\n",
    "        total = total +x\n",
    "    return total\n",
    "\n",
    "find_sum([1,2,3])"
   ]
  },
  {
   "cell_type": "code",
   "execution_count": 14,
   "id": "8e55229c-adb3-4906-aa3c-94d88e5126d1",
   "metadata": {},
   "outputs": [
    {
     "name": "stdout",
     "output_type": "stream",
     "text": [
      "20\n"
     ]
    }
   ],
   "source": [
    "def find_sum(l):\n",
    "    global a\n",
    "    a =20\n",
    "    total = 0\n",
    "    for x in l:\n",
    "        total = total +x\n",
    "    return total\n",
    "\n",
    "find_sum([1,2,3])\n",
    "print(a)"
   ]
  },
  {
   "cell_type": "code",
   "execution_count": null,
   "id": "04471ed9-a533-4e03-b448-9736e5b0915b",
   "metadata": {},
   "outputs": [],
   "source": [
    "# The rate of interest varies as per the amount of loan taken as shown below: \n",
    "# Amount of loan taken rate of interest below \n",
    "# - 10000 = 5% \n",
    "# - 10000 - 50000 = 7% \n",
    "# - above 50000 = 10% \n",
    "# input the amount of loan then calculate, interest and print both amount and interest"
   ]
  },
  {
   "cell_type": "code",
   "execution_count": 22,
   "id": "c167a171-20cb-4fb0-a043-155305f7b1f5",
   "metadata": {},
   "outputs": [
    {
     "name": "stdin",
     "output_type": "stream",
     "text": [
      "Enter loan amount:  75000\n"
     ]
    },
    {
     "name": "stdout",
     "output_type": "stream",
     "text": [
      "Amount: 75000\n",
      "Rate of Interes: 0.1\n",
      "Interest amount: 7500.0\n"
     ]
    }
   ],
   "source": [
    "\n",
    "amount = int(input(\"Enter loan amount: \"))\n",
    "if amount < 10000:\n",
    "    roi = 5/100\n",
    "elif amount > 1000 & amount > 50000:\n",
    "    roi = 7/100\n",
    "elif amount > 50000:\n",
    "    roi = 10/100\n",
    "\n",
    "print(\"Amount:\",amount)\n",
    "print(\"Rate of Interes:\", roi)\n",
    "print(\"Interest amount:\", amount*roi)"
   ]
  },
  {
   "cell_type": "code",
   "execution_count": null,
   "id": "b596328e-29fa-44dd-a535-f8d09a934ed8",
   "metadata": {},
   "outputs": [],
   "source": [
    "# Write a Python program to calculate the sum of three given numbers, # if the values are equal then return thrice of their sum"
   ]
  },
  {
   "cell_type": "code",
   "execution_count": 28,
   "id": "1a2cccbb-857a-4422-9528-e86b502909db",
   "metadata": {},
   "outputs": [
    {
     "name": "stdin",
     "output_type": "stream",
     "text": [
      "Enter Number 1:  1\n",
      "Enter Number 2:  2\n",
      "Enter Number 3:  3\n"
     ]
    },
    {
     "name": "stdout",
     "output_type": "stream",
     "text": [
      "FALSE\n"
     ]
    }
   ],
   "source": [
    "num1 = int(input(\"Enter Number 1: \"))\n",
    "num2 = int(input(\"Enter Number 2: \"))\n",
    "num3 = int(input(\"Enter Number 3: \"))\n",
    "\n",
    "if num1==num2 | num2+num3==5 | num1-num2==5:\n",
    "    print(\"TRUE\")\n",
    "else:\n",
    "    print('FALSE')\n"
   ]
  },
  {
   "cell_type": "code",
   "execution_count": null,
   "id": "e6d72278-7378-4638-8fb0-b60aa667c91c",
   "metadata": {},
   "outputs": [],
   "source": []
  },
  {
   "cell_type": "code",
   "execution_count": null,
   "id": "5f233d63-2230-4275-93d4-b86e41d0eaa7",
   "metadata": {},
   "outputs": [],
   "source": []
  },
  {
   "cell_type": "code",
   "execution_count": null,
   "id": "e3fffb5d-0e4e-45bd-9749-e0fc4f0bf5d3",
   "metadata": {},
   "outputs": [],
   "source": []
  },
  {
   "cell_type": "code",
   "execution_count": null,
   "id": "eaaa54c3-8146-4f5e-8bab-c81e650624d8",
   "metadata": {},
   "outputs": [],
   "source": []
  },
  {
   "cell_type": "code",
   "execution_count": null,
   "id": "859f8ae0-7f74-45a3-96bd-899e0c39f873",
   "metadata": {},
   "outputs": [],
   "source": []
  },
  {
   "cell_type": "code",
   "execution_count": null,
   "id": "501e90b3-9911-4297-a99e-ef9830da5831",
   "metadata": {},
   "outputs": [],
   "source": []
  },
  {
   "cell_type": "code",
   "execution_count": null,
   "id": "1e7528f6-22c9-4d07-b8c6-0c9758936295",
   "metadata": {},
   "outputs": [],
   "source": []
  },
  {
   "cell_type": "code",
   "execution_count": null,
   "id": "8027c1bf-e95c-4994-a91d-c6940c2fad5d",
   "metadata": {},
   "outputs": [],
   "source": []
  },
  {
   "cell_type": "code",
   "execution_count": null,
   "id": "f19484fd-8f1e-4938-afa2-904100911f96",
   "metadata": {},
   "outputs": [],
   "source": []
  },
  {
   "cell_type": "code",
   "execution_count": null,
   "id": "e412abc1-de7d-4874-82d7-a4a943556d30",
   "metadata": {},
   "outputs": [],
   "source": []
  },
  {
   "cell_type": "code",
   "execution_count": null,
   "id": "5a7f95a9-8f01-415f-837f-b7876cb466e5",
   "metadata": {},
   "outputs": [],
   "source": []
  },
  {
   "cell_type": "code",
   "execution_count": null,
   "id": "1069f93d-a346-4c9b-9c2a-0c91465f0b13",
   "metadata": {},
   "outputs": [],
   "source": []
  },
  {
   "cell_type": "code",
   "execution_count": null,
   "id": "3c102f62-77eb-47f9-b5a4-9b1a024ca0a7",
   "metadata": {},
   "outputs": [],
   "source": []
  },
  {
   "cell_type": "code",
   "execution_count": null,
   "id": "8de78f1f-9dc1-48d8-b1b3-233ba25dbae7",
   "metadata": {},
   "outputs": [],
   "source": []
  },
  {
   "cell_type": "code",
   "execution_count": null,
   "id": "a4a80e90-2326-41ef-83fb-b43e25402c88",
   "metadata": {},
   "outputs": [],
   "source": []
  },
  {
   "cell_type": "code",
   "execution_count": null,
   "id": "e37abf3d-d657-4adb-882c-13b4f59e9eb1",
   "metadata": {},
   "outputs": [],
   "source": []
  },
  {
   "cell_type": "code",
   "execution_count": null,
   "id": "71f0f587-4b1d-4f28-8517-6609e2902a89",
   "metadata": {},
   "outputs": [],
   "source": []
  },
  {
   "cell_type": "code",
   "execution_count": null,
   "id": "74c32739-4255-484f-81fb-7b880891e3fa",
   "metadata": {},
   "outputs": [],
   "source": []
  },
  {
   "cell_type": "code",
   "execution_count": null,
   "id": "9cfcc426-bd1d-4fbe-8949-617eb4fd6cd1",
   "metadata": {},
   "outputs": [],
   "source": []
  },
  {
   "cell_type": "code",
   "execution_count": null,
   "id": "5f53bf79-dbd1-49e7-a6c4-e52dced78470",
   "metadata": {},
   "outputs": [],
   "source": []
  },
  {
   "cell_type": "code",
   "execution_count": null,
   "id": "6f9dbf01-e516-4dfb-94e3-a7f4796f14d5",
   "metadata": {},
   "outputs": [],
   "source": []
  },
  {
   "cell_type": "code",
   "execution_count": null,
   "id": "cf33703c-977e-4529-9f49-35a578feffdf",
   "metadata": {},
   "outputs": [],
   "source": []
  },
  {
   "cell_type": "code",
   "execution_count": null,
   "id": "94bb0595-b2ad-487d-a9dd-31481be1c6aa",
   "metadata": {},
   "outputs": [],
   "source": []
  },
  {
   "cell_type": "code",
   "execution_count": null,
   "id": "96d13676-2e44-49b9-b297-bbb5e138ca9a",
   "metadata": {},
   "outputs": [],
   "source": []
  },
  {
   "cell_type": "code",
   "execution_count": null,
   "id": "19f137c9-d943-43d5-bbd2-f2c74814570c",
   "metadata": {},
   "outputs": [],
   "source": []
  },
  {
   "cell_type": "code",
   "execution_count": null,
   "id": "e0dbb883-3d0c-4e5b-b4e6-312bddc0fa80",
   "metadata": {},
   "outputs": [],
   "source": []
  },
  {
   "cell_type": "code",
   "execution_count": null,
   "id": "2fea49d8-ca40-4944-9e3c-5ff58ab9c32d",
   "metadata": {},
   "outputs": [],
   "source": []
  }
 ],
 "metadata": {
  "kernelspec": {
   "display_name": "Python [conda env:base] *",
   "language": "python",
   "name": "conda-base-py"
  },
  "language_info": {
   "codemirror_mode": {
    "name": "ipython",
    "version": 3
   },
   "file_extension": ".py",
   "mimetype": "text/x-python",
   "name": "python",
   "nbconvert_exporter": "python",
   "pygments_lexer": "ipython3",
   "version": "3.12.7"
  }
 },
 "nbformat": 4,
 "nbformat_minor": 5
}
