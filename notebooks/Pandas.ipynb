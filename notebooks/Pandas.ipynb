{
 "cells": [
  {
   "cell_type": "code",
   "execution_count": 20,
   "id": "ffc66463-3289-4ee0-9046-1b97fbdb1372",
   "metadata": {},
   "outputs": [],
   "source": [
    "import numpy as np\n",
    "import pandas as pd"
   ]
  },
  {
   "cell_type": "code",
   "execution_count": 8,
   "id": "b35850d6-1a8d-459f-9f27-8d04d67b83bc",
   "metadata": {
    "scrolled": true
   },
   "outputs": [
    {
     "data": {
      "text/plain": [
       "6"
      ]
     },
     "execution_count": 8,
     "metadata": {},
     "output_type": "execute_result"
    }
   ],
   "source": [
    "# 1) print first 5 rows \n",
    "# 2) print last 5 rows \n",
    "# 3) print dimension -> shape! \n",
    "# 4) print general information \n",
    "# 5) print description (stats) about the data \n",
    "# 6) print number of missing values from the \n",
    "# 7) remove duplicate rows from the data\n",
    "# 8 Sort df on L column -> descending, (indexes are correctly ordered) \n",
    "\n",
    "# 10 Group df by column 'F' and calculate the mean & max of column 'H'. # In single step"
   ]
  },
  {
   "cell_type": "code",
   "execution_count": null,
   "id": "ee6eb5d6-f13a-4eb9-b5e7-0333ec3cbb90",
   "metadata": {},
   "outputs": [],
   "source": [
    "# 9 Group df by column 'F' and calculate the mean of column 'G'. "
   ]
  },
  {
   "cell_type": "code",
   "execution_count": null,
   "id": "3d31bbd7-fd02-4113-86f5-1db735dd1643",
   "metadata": {},
   "outputs": [],
   "source": [
    "# phone usage india\n",
    "\n",
    "\n",
    "# 2. Create a new column in the dataset that is the difference # of gaming time from the screen time \n",
    "# 3. Find the average data usage per phone brand and OS (in a single step) "
   ]
  },
  {
   "cell_type": "code",
   "execution_count": 28,
   "id": "0f016619-0901-453d-bdb0-632adbe6d81b",
   "metadata": {},
   "outputs": [
    {
     "data": {
      "text/html": [
       "<div>\n",
       "<style scoped>\n",
       "    .dataframe tbody tr th:only-of-type {\n",
       "        vertical-align: middle;\n",
       "    }\n",
       "\n",
       "    .dataframe tbody tr th {\n",
       "        vertical-align: top;\n",
       "    }\n",
       "\n",
       "    .dataframe thead th {\n",
       "        text-align: right;\n",
       "    }\n",
       "</style>\n",
       "<table border=\"1\" class=\"dataframe\">\n",
       "  <thead>\n",
       "    <tr style=\"text-align: right;\">\n",
       "      <th></th>\n",
       "      <th>User ID</th>\n",
       "      <th>Age</th>\n",
       "      <th>Gender</th>\n",
       "      <th>Location</th>\n",
       "      <th>Phone Brand</th>\n",
       "      <th>OS</th>\n",
       "      <th>Screen Time (hrs/day)</th>\n",
       "      <th>Data Usage (GB/month)</th>\n",
       "      <th>Calls Duration (mins/day)</th>\n",
       "      <th>Number of Apps Installed</th>\n",
       "      <th>Social Media Time (hrs/day)</th>\n",
       "      <th>E-commerce Spend (INR/month)</th>\n",
       "      <th>Streaming Time (hrs/day)</th>\n",
       "      <th>Gaming Time (hrs/day)</th>\n",
       "      <th>Monthly Recharge Cost (INR)</th>\n",
       "      <th>Primary Use</th>\n",
       "    </tr>\n",
       "  </thead>\n",
       "  <tbody>\n",
       "    <tr>\n",
       "      <th>0</th>\n",
       "      <td>U00001</td>\n",
       "      <td>53</td>\n",
       "      <td>Male</td>\n",
       "      <td>Mumbai</td>\n",
       "      <td>Vivo</td>\n",
       "      <td>Android</td>\n",
       "      <td>3.7</td>\n",
       "      <td>23.9</td>\n",
       "      <td>37.9</td>\n",
       "      <td>104</td>\n",
       "      <td>3.9</td>\n",
       "      <td>469</td>\n",
       "      <td>5.2</td>\n",
       "      <td>4.1</td>\n",
       "      <td>803</td>\n",
       "      <td>Education</td>\n",
       "    </tr>\n",
       "    <tr>\n",
       "      <th>1</th>\n",
       "      <td>U00002</td>\n",
       "      <td>60</td>\n",
       "      <td>Other</td>\n",
       "      <td>Delhi</td>\n",
       "      <td>Realme</td>\n",
       "      <td>iOS</td>\n",
       "      <td>9.2</td>\n",
       "      <td>28.1</td>\n",
       "      <td>13.7</td>\n",
       "      <td>169</td>\n",
       "      <td>2.8</td>\n",
       "      <td>4997</td>\n",
       "      <td>5.1</td>\n",
       "      <td>0.4</td>\n",
       "      <td>1526</td>\n",
       "      <td>Gaming</td>\n",
       "    </tr>\n",
       "    <tr>\n",
       "      <th>2</th>\n",
       "      <td>U00003</td>\n",
       "      <td>37</td>\n",
       "      <td>Female</td>\n",
       "      <td>Ahmedabad</td>\n",
       "      <td>Nokia</td>\n",
       "      <td>Android</td>\n",
       "      <td>4.5</td>\n",
       "      <td>12.3</td>\n",
       "      <td>66.8</td>\n",
       "      <td>96</td>\n",
       "      <td>3.0</td>\n",
       "      <td>2381</td>\n",
       "      <td>1.7</td>\n",
       "      <td>2.9</td>\n",
       "      <td>1619</td>\n",
       "      <td>Entertainment</td>\n",
       "    </tr>\n",
       "    <tr>\n",
       "      <th>3</th>\n",
       "      <td>U00004</td>\n",
       "      <td>32</td>\n",
       "      <td>Male</td>\n",
       "      <td>Pune</td>\n",
       "      <td>Samsung</td>\n",
       "      <td>Android</td>\n",
       "      <td>11.0</td>\n",
       "      <td>25.6</td>\n",
       "      <td>156.2</td>\n",
       "      <td>146</td>\n",
       "      <td>5.2</td>\n",
       "      <td>1185</td>\n",
       "      <td>3.2</td>\n",
       "      <td>0.3</td>\n",
       "      <td>1560</td>\n",
       "      <td>Entertainment</td>\n",
       "    </tr>\n",
       "    <tr>\n",
       "      <th>4</th>\n",
       "      <td>U00005</td>\n",
       "      <td>16</td>\n",
       "      <td>Male</td>\n",
       "      <td>Mumbai</td>\n",
       "      <td>Xiaomi</td>\n",
       "      <td>iOS</td>\n",
       "      <td>2.2</td>\n",
       "      <td>2.5</td>\n",
       "      <td>236.2</td>\n",
       "      <td>86</td>\n",
       "      <td>5.5</td>\n",
       "      <td>106</td>\n",
       "      <td>3.4</td>\n",
       "      <td>2.3</td>\n",
       "      <td>742</td>\n",
       "      <td>Social Media</td>\n",
       "    </tr>\n",
       "  </tbody>\n",
       "</table>\n",
       "</div>"
      ],
      "text/plain": [
       "  User ID  Age  Gender   Location Phone Brand       OS  Screen Time (hrs/day)  \\\n",
       "0  U00001   53    Male     Mumbai        Vivo  Android                    3.7   \n",
       "1  U00002   60   Other      Delhi      Realme      iOS                    9.2   \n",
       "2  U00003   37  Female  Ahmedabad       Nokia  Android                    4.5   \n",
       "3  U00004   32    Male       Pune     Samsung  Android                   11.0   \n",
       "4  U00005   16    Male     Mumbai      Xiaomi      iOS                    2.2   \n",
       "\n",
       "   Data Usage (GB/month)  Calls Duration (mins/day)  Number of Apps Installed  \\\n",
       "0                   23.9                       37.9                       104   \n",
       "1                   28.1                       13.7                       169   \n",
       "2                   12.3                       66.8                        96   \n",
       "3                   25.6                      156.2                       146   \n",
       "4                    2.5                      236.2                        86   \n",
       "\n",
       "   Social Media Time (hrs/day)  E-commerce Spend (INR/month)  \\\n",
       "0                          3.9                           469   \n",
       "1                          2.8                          4997   \n",
       "2                          3.0                          2381   \n",
       "3                          5.2                          1185   \n",
       "4                          5.5                           106   \n",
       "\n",
       "   Streaming Time (hrs/day)  Gaming Time (hrs/day)  \\\n",
       "0                       5.2                    4.1   \n",
       "1                       5.1                    0.4   \n",
       "2                       1.7                    2.9   \n",
       "3                       3.2                    0.3   \n",
       "4                       3.4                    2.3   \n",
       "\n",
       "   Monthly Recharge Cost (INR)    Primary Use  \n",
       "0                          803      Education  \n",
       "1                         1526         Gaming  \n",
       "2                         1619  Entertainment  \n",
       "3                         1560  Entertainment  \n",
       "4                          742   Social Media  "
      ]
     },
     "execution_count": 28,
     "metadata": {},
     "output_type": "execute_result"
    }
   ],
   "source": [
    "ph_dataframe = pd.read_csv('/Users/jagdshlk/Documents/Projects/Masters_AI_ML/ml-playgrounds/notebooks/phone_usage_india.csv')\n",
    "ph_dataframe.head()"
   ]
  },
  {
   "cell_type": "code",
   "execution_count": 36,
   "id": "19ce9e0e-c6f5-4f35-b444-801a12f9d652",
   "metadata": {},
   "outputs": [
    {
     "ename": "SyntaxError",
     "evalue": "invalid syntax (<unknown>, line 1)",
     "output_type": "error",
     "traceback": [
      "Traceback \u001b[0;36m(most recent call last)\u001b[0m:\n",
      "\u001b[0m  File \u001b[1;32m/opt/anaconda3/lib/python3.12/site-packages/IPython/core/interactiveshell.py:3577\u001b[0m in \u001b[1;35mrun_code\u001b[0m\n    exec(code_obj, self.user_global_ns, self.user_ns)\u001b[0m\n",
      "\u001b[0m  Cell \u001b[1;32mIn[36], line 2\u001b[0m\n    ph_dataframe.query('Screen Time (hrs/day) > 10')\u001b[0m\n",
      "\u001b[0m  File \u001b[1;32m/opt/anaconda3/lib/python3.12/site-packages/pandas/core/frame.py:4823\u001b[0m in \u001b[1;35mquery\u001b[0m\n    res = self.eval(expr, **kwargs)\u001b[0m\n",
      "\u001b[0m  File \u001b[1;32m/opt/anaconda3/lib/python3.12/site-packages/pandas/core/frame.py:4949\u001b[0m in \u001b[1;35meval\u001b[0m\n    return _eval(expr, inplace=inplace, **kwargs)\u001b[0m\n",
      "\u001b[0m  File \u001b[1;32m/opt/anaconda3/lib/python3.12/site-packages/pandas/core/computation/eval.py:336\u001b[0m in \u001b[1;35meval\u001b[0m\n    parsed_expr = Expr(expr, engine=engine, parser=parser, env=env)\u001b[0m\n",
      "\u001b[0m  File \u001b[1;32m/opt/anaconda3/lib/python3.12/site-packages/pandas/core/computation/expr.py:809\u001b[0m in \u001b[1;35m__init__\u001b[0m\n    self.terms = self.parse()\u001b[0m\n",
      "\u001b[0m  File \u001b[1;32m/opt/anaconda3/lib/python3.12/site-packages/pandas/core/computation/expr.py:828\u001b[0m in \u001b[1;35mparse\u001b[0m\n    return self._visitor.visit(self.expr)\u001b[0m\n",
      "\u001b[0m  File \u001b[1;32m/opt/anaconda3/lib/python3.12/site-packages/pandas/core/computation/expr.py:408\u001b[0m in \u001b[1;35mvisit\u001b[0m\n    raise e\u001b[0m\n",
      "\u001b[0m  File \u001b[1;32m/opt/anaconda3/lib/python3.12/site-packages/pandas/core/computation/expr.py:404\u001b[0m in \u001b[1;35mvisit\u001b[0m\n    node = ast.fix_missing_locations(ast.parse(clean))\u001b[0m\n",
      "\u001b[0;36m  File \u001b[0;32m/opt/anaconda3/lib/python3.12/ast.py:52\u001b[0;36m in \u001b[0;35mparse\u001b[0;36m\n\u001b[0;31m    return compile(source, filename, mode, flags,\u001b[0;36m\n",
      "\u001b[0;36m  File \u001b[0;32m<unknown>:1\u001b[0;36m\u001b[0m\n\u001b[0;31m    Screen Time (hrs /day )>10\u001b[0m\n\u001b[0m           ^\u001b[0m\n\u001b[0;31mSyntaxError\u001b[0m\u001b[0;31m:\u001b[0m invalid syntax\n"
     ]
    }
   ],
   "source": [
    "# 1. Find users who spend more than 8 hours on the screen daily # but have less than 500 INR of e-commerce spend\n",
    "ph_dataframe.query('Screen Time (hrs/day) > 10')"
   ]
  },
  {
   "cell_type": "code",
   "execution_count": 40,
   "id": "5e6090fb-694b-4929-bbf3-180c825d1cdc",
   "metadata": {},
   "outputs": [
    {
     "name": "stdout",
     "output_type": "stream",
     "text": [
      "65\n"
     ]
    }
   ],
   "source": [
    "print(ord('A'))"
   ]
  }
 ],
 "metadata": {
  "kernelspec": {
   "display_name": "Python [conda env:base] *",
   "language": "python",
   "name": "conda-base-py"
  },
  "language_info": {
   "codemirror_mode": {
    "name": "ipython",
    "version": 3
   },
   "file_extension": ".py",
   "mimetype": "text/x-python",
   "name": "python",
   "nbconvert_exporter": "python",
   "pygments_lexer": "ipython3",
   "version": "3.12.7"
  }
 },
 "nbformat": 4,
 "nbformat_minor": 5
}
